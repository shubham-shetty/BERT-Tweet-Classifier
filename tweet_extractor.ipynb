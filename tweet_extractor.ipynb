{
 "cells": [
  {
   "cell_type": "markdown",
   "id": "286fb9a5",
   "metadata": {},
   "source": [
    "# Scraping Twitter for Hate Speech\n",
    "The task at hand is to build a dataset of tweets for hate speech classification using NLP methods. For this purpose, I've written a generic Tweet scraper code using Tweepy to pull tweets based on a search query and store as a text file."
   ]
  },
  {
   "cell_type": "code",
   "execution_count": 19,
   "id": "16794fb3",
   "metadata": {},
   "outputs": [],
   "source": [
    "# Pip install Tweepy if you don't already have the package\n",
    "# !pip install tweepy"
   ]
  },
  {
   "cell_type": "code",
   "execution_count": null,
   "id": "269b932c",
   "metadata": {},
   "outputs": [],
   "source": [
    "# Remember to place config.ini in location"
   ]
  },
  {
   "cell_type": "code",
   "execution_count": 13,
   "id": "2145818c",
   "metadata": {},
   "outputs": [],
   "source": [
    "from scraping_utils import scraper"
   ]
  },
  {
   "cell_type": "code",
   "execution_count": 18,
   "id": "eccec803",
   "metadata": {},
   "outputs": [],
   "source": [
    "text_queries = [\"muslim\",\"hindu\",\"sikh\",\"hate+asians\"]\n",
    "count = 20\n",
    "for q in text_queries:\n",
    "    scraper.get_tweets(q, count, filename = f\"trial_{q}\", result_type=\"mixed\")"
   ]
  },
  {
   "cell_type": "code",
   "execution_count": null,
   "id": "a27633af",
   "metadata": {},
   "outputs": [],
   "source": []
  }
 ],
 "metadata": {
  "kernelspec": {
   "display_name": "Python 3",
   "language": "python",
   "name": "python3"
  },
  "language_info": {
   "codemirror_mode": {
    "name": "ipython",
    "version": 3
   },
   "file_extension": ".py",
   "mimetype": "text/x-python",
   "name": "python",
   "nbconvert_exporter": "python",
   "pygments_lexer": "ipython3",
   "version": "3.8.8"
  }
 },
 "nbformat": 4,
 "nbformat_minor": 5
}
